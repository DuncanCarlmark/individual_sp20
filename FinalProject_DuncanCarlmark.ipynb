{
 "cells": [
  {
   "cell_type": "markdown",
   "metadata": {},
   "source": [
    "# COGS 108 - Final Project "
   ]
  },
  {
   "cell_type": "markdown",
   "metadata": {},
   "source": [
    "# Overview"
   ]
  },
  {
   "cell_type": "markdown",
   "metadata": {},
   "source": [
    "This project was inspired by a conversation I tend to have relatively often with my family. Both of my parents prefer to eat in \"nicer\" areas of our hometown and I often criticize them for this since, in my opinion, food is food. To try and see if there was any validity in their stance I analyzed the health inspection performance of restaurants in zip codes with high and low median family incomes. After my analysis, it is clear that there is some difference between restauraunts in these groups but while this difference is statistically significant it is not significant enough to justify only eating at restaurants in \"nicer\" areas of town."
   ]
  },
  {
   "cell_type": "markdown",
   "metadata": {},
   "source": [
    "# Name & GitHub\n",
    "\n",
    "- Name: Duncan Carlmark\n",
    "- GitHub Username: DuncanCarlmark"
   ]
  },
  {
   "cell_type": "markdown",
   "metadata": {},
   "source": [
    "# Research Question"
   ]
  },
  {
   "cell_type": "markdown",
   "metadata": {},
   "source": [
    "When it comes to public health inspections, is there any difference in the performance of restaurants in high income zip codes versus restaurants in low income zip codes?"
   ]
  },
  {
   "cell_type": "markdown",
   "metadata": {},
   "source": [
    "## Background and Prior Work"
   ]
  },
  {
   "cell_type": "markdown",
   "metadata": {},
   "source": [
    "\n",
    "References (include links):\n",
    "- **1)** https://www.forsyth.cc/PublicHealth/EnvironmentalHealth/aboutInspections.aspx\n",
    "- **2)** https://foodhandlerscardhelp.com/nc-food-handlers-reqiurements/\n",
    "- **3)** http://foodsafetytrainingcourses.com/north_carolina_food_safety_training_course.html\n",
    "\n",
    "- **4)** https://ajph.aphapublications.org/doi/pdf/10.2105/AJPH.2012.300865\n",
    "- **5)** https://www.mdpi.com/1660-4601/10/8/3296/htm\n",
    "\n",
    "- **6)** https://www.healthcare.gov/glossary/federal-poverty-level-fpl/\n",
    "\n",
    "\n",
    "\n",
    "General Information:\n",
    "\n",
    "- **1)** Foodservice establishments in North Carolina are inspected at regular intervals depending on an establishments \"Risk Category\" which is a measure of how easily a resturaunt could harm someone with ill prepared food due to the complexity of their menu and the succeptibility of the population they serve. During an inspection many different aspects of the restaurant are evaluated such as the storage of high risk foods, the storage of chemicals, the conduct of the employees, etc. If the inspector finds any of these aspects to be a violation, they will deduct points from the restaurant's final score. Certain violations are deemed to be critical violations essentailly stating that they are more severe and have a much higher probability of harming a worker or customer of the restaurant. Once an inspection is complete the restauraunt is awarded a grade from 0 - 102 and any restaurant that scores below a 90 can request a re-inspection within 15 days of the original inspection to re-evaluate for a higher score.\n",
    "\n",
    "\n",
    "- **2)** Those that work in foodservice establishments in North Carolina are not required to be certified food handelers, however every establishment is reqired to have a Certified Food Protection Manager. So while each individual person does not need to have a personal certification, there must be at least one individual who is a CFPM that can oversee and ensure that all food is prepared and stored properly. There are many online resources to receive a standard food handling certification and each charges around $10 for their certification.\n",
    "\n",
    "\n",
    "- **3)** The food handlers certification lasts up to 5 years but can expire sooner depending on local jurisdicction. This is honestly really interesting since that means someone could not work in a restaurant for 4 years but then rejoin the workforce and the government expects them to remember all the information from their 8 hour training from several years ago.\n",
    "\n",
    "\n",
    "Prior Work:\n",
    "\n",
    "- **4)** A study investigating environmental burdens found that low-income neighborhoods had better access to fast food outlets and convenience stores rather than other businesses that would offer better healthier food. While this study does not explicity mention anything about health inspections it does determine that there is a correlation between low income neighborhoods and fast food. The existience of this correlation may explain someones aversion to eating in these environments since fast food is traditionally looked down upon because of its unhealthyness.\n",
    "\n",
    "\n",
    "- **5)** This study assessed the sanitary knowledge of cooks/chefs from Nigeria. The most significant finding of the study in regards to my hypothesis is that there was a strong correlation between the education of someone and their knowledge of food safety procedures. Those that had attended a cooking school were far more likely to understand how to properly prevent the spread of foodborne illnesses. This would mean that restaurants that could afford to hire those with additional supplementary education on how to handle food would likely have less violations and a higher overall score.\n",
    "\n",
    "\n",
    "Information for Analysis:\n",
    "- **6)** The federal poverty levels for families of various sizes. $30,680 is the level for a family of 5.\n",
    "\n"
   ]
  },
  {
   "cell_type": "markdown",
   "metadata": {},
   "source": [
    "# Hypothesis\n"
   ]
  },
  {
   "cell_type": "markdown",
   "metadata": {},
   "source": [
    "There is no difference in the number of errors made or the overall inspection score of restaurants in lower income zip codes versus restaurants in higher income zip codes."
   ]
  },
  {
   "cell_type": "markdown",
   "metadata": {},
   "source": [
    "# Dataset(s)"
   ]
  },
  {
   "cell_type": "markdown",
   "metadata": {},
   "source": [
    "- **Dataset Name:** inspections.csv\n",
    "- **Link to the dataset:** https://canvas.ucsd.edu/courses/12630/files/1639871/download?wrap=1\n",
    "- **Number of observations:** 18466\n",
    "- **Description:** This dataset contains health inspections in North Carolina from the years 2012 to 2016. Each observation in the dataset is for a specific instance of an inspection as a restaurant can be inspected multiple times over the course of 4 years. For each inspection, the data set keeps track of the inspector name, the date of the inspection, the time since the restaurant opened, the score the restaurant received, the number of critical/noncritical errors/ the previous number of errors, and many other important statistics. The features that are most relevant for my analysis are those that track the inspections over time and those that track the performance of a restaurant over time.\n",
    "\n",
    "\n",
    "- **Dataset Name:** zipcodes.csv\n",
    "- **Link to the dataset:** https://canvas.ucsd.edu/courses/12630/files/1639871/download?wrap=1\n",
    "- **Number of observations:** 38\n",
    "- **Description:** This data set contains economic and population information for zip codes in North Carolina. This data was presumably collected from the 2010 census and the only section that will be relevant to my analysis is Median Family Income.\n",
    "\n",
    "\n",
    "I plan to combine these data sets so that I can compare restaurants in zip codes with varying Median Family Incomes. To do this, I will simply merge the two data sets (inspections join zip codes) with a left join on the 'zip' columns.\n",
    "\n",
    "\n"
   ]
  },
  {
   "cell_type": "markdown",
   "metadata": {},
   "source": [
    "# Setup"
   ]
  },
  {
   "cell_type": "code",
   "execution_count": 5,
   "metadata": {},
   "outputs": [],
   "source": [
    "import pandas as pd\n",
    "import numpy as np\n",
    "import seaborn as sns\n",
    "from scipy import stats\n",
    "from scipy.stats import wilcoxon\n",
    "\n",
    "import warnings\n",
    "warnings.filterwarnings(\"ignore\")\n",
    "\n",
    "inspections = pd.read_csv('data/inspections.csv')\n",
    "zipcodes = pd.read_csv('data/zipcodes.csv')\n",
    "\n"
   ]
  },
  {
   "cell_type": "markdown",
   "metadata": {},
   "source": [
    "# Data Cleaning"
   ]
  },
  {
   "cell_type": "code",
   "execution_count": 12,
   "metadata": {},
   "outputs": [
    {
     "data": {
      "text/plain": [
       "Index(['hsisid', 'date', 'name', 'address1', 'address2', 'city', 'state',\n",
       "       'postalcode', 'phonenumber', 'restaurantopendate',\n",
       "       'days_from_open_date', 'facilitytype', 'x', 'y', 'geocodestatus', 'zip',\n",
       "       'type', 'description', 'inspectedby', 'inspection_num', 'inspector_id',\n",
       "       'previous_inspection_date', 'days_since_previous_inspection',\n",
       "       'previous_inspection_by_same_inspector', 'score', 'num_critical',\n",
       "       'num_non_critical', 'num_critical_previous',\n",
       "       'num_non_critical_previous', 'num_critical_mean_previous',\n",
       "       'num_non_critical_mean_previous', 'avg_neighbor_num_critical',\n",
       "       'avg_neighbor_num_non_critical', 'top_match', 'second_match',\n",
       "       'critical'],\n",
       "      dtype='object')"
      ]
     },
     "execution_count": 12,
     "metadata": {},
     "output_type": "execute_result"
    }
   ],
   "source": [
    "len(inspections.columns)\n",
    "inspections.columns"
   ]
  },
  {
   "cell_type": "markdown",
   "metadata": {},
   "source": [
    "#### Cleaning:\n",
    "In terms of data cleaning there was not too much work to be done. The inspections file did have some columns that had NA values but these columns were not relevant to my analysis. The zipcode file had no missing data so there was nothing to account for there either.\n",
    "\n",
    "In the end I ended up removing columns from the dataset that were not relevant to my analysis for simplicity.\n",
    "\n",
    "#### Preprocessing:\n",
    "The only preprocessing that was necessary was the joining of the datasets on the 'zip' columns and the removal of facilities that were not relevant to my question. For example, the data has inspections for \"Public School Lunchrooms\" and it would make no sense to include this in my analysis since I am trying to analyze restaurants where anyone can eat.\n",
    "\n",
    "Below is the missing analysis for the inspection file and the zipcode file in which only the columns that have missing values are displayed. The merging of the data sets and the removal of irrelevant features is also included below.\n"
   ]
  },
  {
   "cell_type": "code",
   "execution_count": 17,
   "metadata": {},
   "outputs": [
    {
     "data": {
      "text/plain": [
       "address2                                 0.897379\n",
       "phonenumber                              0.027131\n",
       "description                              0.569479\n",
       "inspectedby                              0.000271\n",
       "inspector_id                             0.000271\n",
       "previous_inspection_date                 0.164898\n",
       "days_since_previous_inspection           0.164898\n",
       "previous_inspection_by_same_inspector    0.165223\n",
       "num_critical_previous                    0.164898\n",
       "num_non_critical_previous                0.164898\n",
       "num_critical_mean_previous               0.164898\n",
       "num_non_critical_mean_previous           0.164898\n",
       "avg_neighbor_num_critical                0.000325\n",
       "avg_neighbor_num_non_critical            0.000325\n",
       "top_match                                0.000325\n",
       "second_match                             0.000325\n",
       "dtype: float64"
      ]
     },
     "execution_count": 17,
     "metadata": {},
     "output_type": "execute_result"
    }
   ],
   "source": [
    "inspections.isna().mean().loc[inspections.isna().mean() > 0]"
   ]
  },
  {
   "cell_type": "code",
   "execution_count": 18,
   "metadata": {},
   "outputs": [
    {
     "data": {
      "text/plain": [
       "Series([], dtype: float64)"
      ]
     },
     "execution_count": 18,
     "metadata": {},
     "output_type": "execute_result"
    }
   ],
   "source": [
    "zipcodes.isna().mean().loc[zipcodes.isna().mean() > 0]"
   ]
  },
  {
   "cell_type": "code",
   "execution_count": 19,
   "metadata": {},
   "outputs": [],
   "source": [
    "merged = inspections.merge(zipcodes, how='left', left_on = 'zip', right_on = 'zip')\n",
    "\n",
    "# Columns that are irrelevant\n",
    "dontCare = ['address2', 'phonenumber',  'inspectedby', 'name',\n",
    "       'previous_inspection_date', 'days_since_previous_inspection',\n",
    "       'previous_inspection_by_same_inspector', 'num_critical_previous',\n",
    "       'num_non_critical_previous', 'num_critical_mean_previous',\n",
    "       'num_non_critical_mean_previous', 'avg_neighbor_num_critical',\n",
    "       'avg_neighbor_num_non_critical', 'top_match', 'second_match']\n",
    "merged = merged.drop(dontCare, axis = 1)\n",
    "\n",
    "# Observations that do not pertain to my analysis\n",
    "merged = merged[(merged['facilitytype'] == \"Restaurant\") |\n",
    "           (merged['facilitytype'] == \"Food Stand\") |\n",
    "           (merged['facilitytype'] == \"Mobile Food Units\") |\n",
    "           (merged['facilitytype'] == \"Pushcarts\")]\n",
    "\n"
   ]
  },
  {
   "cell_type": "markdown",
   "metadata": {},
   "source": [
    "# Data Analysis & Results"
   ]
  },
  {
   "cell_type": "markdown",
   "metadata": {},
   "source": [
    "## EDA"
   ]
  },
  {
   "cell_type": "markdown",
   "metadata": {},
   "source": [
    "### Variables in Question\n",
    "\n",
    "The variables that I used in my analysis were\n",
    "\n",
    "**score:** The score a restaurant receives on its health inspection\n",
    "\n",
    "**num_critical:** The number of errors a restaurant receives that could cause serious harm\n",
    "\n",
    "**num_non_critical:** The number of noncritical errors\n",
    "\n",
    "**zipcode:** The identifier for a geographic region\n",
    "\n",
    "**median_family_income_dollars:** The median family income a family receives annually. The number of members in a family varies\n",
    "\n",
    "**inspection_num:** The number that corresponds to however many times the restaurant has been inspected prior. Ex: If this observation is the restaurants second health inspection the value of this variable would be 2\n",
    "\n",
    "\n",
    "The distributions of the most relevant variables analyzed below...\n",
    "\n",
    "\n",
    "\n",
    "\n"
   ]
  },
  {
   "cell_type": "markdown",
   "metadata": {},
   "source": [
    "#### Score\n",
    "\n",
    "The distribution of the overall score is not very normal as there is a long tail that skews the distribution to the left. This distribution does not tell us much other than that the majority of restaurants score in the 90s range on their inspections, but there are still some restaurants that do not perform very well with scores in the 80s range"
   ]
  },
  {
   "cell_type": "code",
   "execution_count": 20,
   "metadata": {},
   "outputs": [
    {
     "data": {
      "text/plain": [
       "<AxesSubplot:xlabel='OVERALL SCORE DISTRIBUTION'>"
      ]
     },
     "execution_count": 20,
     "metadata": {},
     "output_type": "execute_result"
    },
    {
     "data": {
      "image/png": "[encoded data removed]",
      "text/plain": [
       "<Figure size 432x288 with 1 Axes>"
      ]
     },
     "metadata": {
      "needs_background": "light"
     },
     "output_type": "display_data"
    }
   ],
   "source": [
    "sns.distplot(merged['score'], kde = False, bins = 20, axlabel = 'OVERALL SCORE DISTRIBUTION')\n"
   ]
  },
  {
   "cell_type": "markdown",
   "metadata": {},
   "source": [
    "#### Distribution of Scores across zip codes\n",
    "\n",
    "In this visualization we see the count of zip codes whose average scores are between 90 and 100. While the histogram of the overall distribution of score had a long left tail, this distribution is much more symmetric and bell shaped.\n",
    "\n",
    "The most interesting thing about this graph is that it seems to be somewhat normal or symmetric. This finding is relatively tangential to my analysis so I won't be delving into this/verifying it, but one could expand on this to define a test that would flag zip codes that lie outside of a 95% CI for this distribution. That is if this distribution is normal...\n",
    "\n",
    "\n"
   ]
  },
  {
   "cell_type": "code",
   "execution_count": 21,
   "metadata": {},
   "outputs": [
    {
     "data": {
      "text/plain": [
       "<AxesSubplot:xlabel='ZIP CODE COUNTS AT SPECIFIC SCORE INTERVALS'>"
      ]
     },
     "execution_count": 21,
     "metadata": {},
     "output_type": "execute_result"
    },
    {
     "data": {
      "image/png": "[encoded data removed]",
      "text/plain": [
       "<Figure size 432x288 with 1 Axes>"
      ]
     },
     "metadata": {
      "needs_background": "light"
     },
     "output_type": "display_data"
    }
   ],
   "source": [
    "zipIndex = merged.groupby('zip').mean()\n",
    "\n",
    "bins = np.arange(90, 100, .5)\n",
    "\n",
    "sns.distplot(zipIndex['score'], kde = False, bins = bins, axlabel = 'ZIP CODE COUNTS AT SPECIFIC SCORE INTERVALS')"
   ]
  },
  {
   "cell_type": "markdown",
   "metadata": {},
   "source": [
    "#### Median Family Income (Dollars)\n",
    "\n",
    "The distribution of Median Family Income (MFI) was what I based the rest of my analysis on. As you can see from the density plot below, there is a significant spike in density for MFIs greater than 90,000. I decided to use this difference to separate the two groups for two reasons:\n",
    "\n",
    "**1)** In case there was any bimodality in the distribution I wanted to account for it\n",
    "\n",
    "**2)** The goal of my hypothesis is to differentiate between high income and low income zip codes, so since there is a significant change in the distribution at this point, I decided to use 90,000 as my cutoff value for high income zip codes.\n",
    "\n",
    "There is also a smaller bump on the left tail that is somewhat separated from the rest of the distribution. I also decided to separate this off into a second group, because this portion of the distribution included those that fell under the federal poverty level (for a family of 5).\n",
    "\n",
    "\n",
    "So from this graph I determined 3 different groups that I would analyze: **rich**, **notRich**, and **poverty**."
   ]
  },
  {
   "cell_type": "code",
   "execution_count": 22,
   "metadata": {},
   "outputs": [
    {
     "data": {
      "text/plain": [
       "<AxesSubplot:xlabel='MEDIAN FAMILY INCOME', ylabel='Density'>"
      ]
     },
     "execution_count": 22,
     "metadata": {},
     "output_type": "execute_result"
    },
    {
     "data": {
      "image/png": "[encoded data removed]",
      "text/plain": [
       "<Figure size 432x288 with 1 Axes>"
      ]
     },
     "metadata": {
      "needs_background": "light"
     },
     "output_type": "display_data"
    }
   ],
   "source": [
    "sns.distplot(merged['median_family_income_dollars'], hist=False, axlabel='MEDIAN FAMILY INCOME')"
   ]
  },
  {
   "cell_type": "markdown",
   "metadata": {},
   "source": [
    "### Outliers\n",
    "\n",
    "There were no significant outliers in my data that I had to deal with, all fell within the distribution of the data. The closest data I had to an outlier was the tail of the original score distribution. I believe that this tail is part of the distribution and is not a series of random outliers or errors."
   ]
  },
  {
   "cell_type": "markdown",
   "metadata": {},
   "source": [
    "## Analysis\n",
    "For my analysis I focused on the three groups that I had mentioned in the EDA section: rich, notRich, and poverty. I chose these because I believe that they segment the data appropriately. The rich and notRich groups represent the break in the distribution around the 90,000 mark, and the poverty group represents those that lie on the extreme left of the distribution.\n",
    "\n",
    "In practice I applied each of these categories to observations in the dataset to appropriately create my groups."
   ]
  },
  {
   "cell_type": "code",
   "execution_count": 23,
   "metadata": {},
   "outputs": [],
   "source": [
    "# Applies a label column where each value correlates to the MFI for that zip code\n",
    "def addClass(x):\n",
    "    if x >= 90000:\n",
    "        return 'rich'\n",
    "    elif x < 30680:\n",
    "        return 'poverty'\n",
    "    else:\n",
    "        return 'notRich'\n",
    "    \n",
    "merged['class'] = merged['median_family_income_dollars'].apply(addClass)\n",
    "\n",
    "rich = merged[merged['class'] == 'rich']\n",
    "notRich = merged[merged['class'] == 'notRich']\n",
    "poverty = merged[merged['class'] == 'poverty']"
   ]
  },
  {
   "cell_type": "code",
   "execution_count": 24,
   "metadata": {},
   "outputs": [
    {
     "name": "stdout",
     "output_type": "stream",
     "text": [
      "Mean Score:\n",
      "95.95577523413111\n",
      "\n",
      " Number Critical Failures:\n",
      "21193\n",
      "\n",
      " Number Non Critical Failures\n",
      "35792\n"
     ]
    },
    {
     "data": {
      "text/plain": [
       "<AxesSubplot:xlabel='DISTRIBUTION OF SCORES FOR RICH ZIP CODES'>"
      ]
     },
     "execution_count": 24,
     "metadata": {},
     "output_type": "execute_result"
    },
    {
     "data": {
      "image/png": "[encoded data removed]",
      "text/plain": [
       "<Figure size 432x288 with 1 Axes>"
      ]
     },
     "metadata": {
      "needs_background": "light"
     },
     "output_type": "display_data"
    }
   ],
   "source": [
    "criticalRich = sum(rich['num_critical'])\n",
    "noncriticalRich = sum(rich['num_non_critical'])\n",
    "scoreRich = np.mean(rich['score'])\n",
    "\n",
    "print('Mean Score:')\n",
    "print(scoreRich)\n",
    "print('\\n Number Critical Failures:')\n",
    "print(criticalRich)\n",
    "print('\\n Number Non Critical Failures')\n",
    "print(noncriticalRich)\n",
    "\n",
    "\n",
    "\n",
    "sns.distplot(rich['score'], kde=False, axlabel= 'DISTRIBUTION OF SCORES FOR RICH ZIP CODES')"
   ]
  },
  {
   "cell_type": "code",
   "execution_count": 25,
   "metadata": {},
   "outputs": [
    {
     "name": "stdout",
     "output_type": "stream",
     "text": [
      "Mean Score:\n",
      "95.94680334829552\n",
      "\n",
      " Number Critical Failures:\n",
      "24717\n",
      "\n",
      " Number Non Critical Failures\n",
      "47050\n"
     ]
    },
    {
     "data": {
      "text/plain": [
       "<AxesSubplot:xlabel='DISTRIBUTION OF SCORES FOR NOT RICH ZIP CODES'>"
      ]
     },
     "execution_count": 25,
     "metadata": {},
     "output_type": "execute_result"
    },
    {
     "data": {
      "image/png": "[encoded data removed]",
      "text/plain": [
       "<Figure size 432x288 with 1 Axes>"
      ]
     },
     "metadata": {
      "needs_background": "light"
     },
     "output_type": "display_data"
    }
   ],
   "source": [
    "criticalNotRich = sum(notRich['num_critical'])\n",
    "noncriticalNotRich = sum(notRich['num_non_critical'])\n",
    "scoreNotRich = np.mean(notRich['score'])\n",
    "\n",
    "print('Mean Score:')\n",
    "print(scoreNotRich)\n",
    "print('\\n Number Critical Failures:')\n",
    "print(criticalNotRich)\n",
    "print('\\n Number Non Critical Failures')\n",
    "print(noncriticalNotRich)\n",
    "\n",
    "\n",
    "\n",
    "sns.distplot(notRich['score'], kde=False, axlabel= 'DISTRIBUTION OF SCORES FOR NOT RICH ZIP CODES')"
   ]
  },
  {
   "cell_type": "code",
   "execution_count": 26,
   "metadata": {},
   "outputs": [
    {
     "name": "stdout",
     "output_type": "stream",
     "text": [
      "Mean Score:\n",
      "95.88157894736842\n",
      "\n",
      " Number Critical Failures:\n",
      "1737\n",
      "\n",
      " Number Non Critical Failures\n",
      "2567\n"
     ]
    },
    {
     "data": {
      "text/plain": [
       "<AxesSubplot:xlabel='DISTRIBUTION OF SCORES FOR POVERTY ZIP CODES'>"
      ]
     },
     "execution_count": 26,
     "metadata": {},
     "output_type": "execute_result"
    },
    {
     "data": {
      "image/png": "[encoded data removed]",
      "text/plain": [
       "<Figure size 432x288 with 1 Axes>"
      ]
     },
     "metadata": {
      "needs_background": "light"
     },
     "output_type": "display_data"
    }
   ],
   "source": [
    "criticalPoverty = sum(poverty['num_critical'])\n",
    "noncriticalPoverty = sum(poverty['num_non_critical'])\n",
    "scorePoverty = np.mean(poverty['score'])\n",
    "\n",
    "print('Mean Score:')\n",
    "print(scorePoverty)\n",
    "print('\\n Number Critical Failures:')\n",
    "print(criticalPoverty)\n",
    "print('\\n Number Non Critical Failures')\n",
    "print(noncriticalPoverty)\n",
    "\n",
    "\n",
    "\n",
    "sns.distplot(poverty['score'], kde=False, axlabel= 'DISTRIBUTION OF SCORES FOR POVERTY ZIP CODES')"
   ]
  },
  {
   "cell_type": "markdown",
   "metadata": {},
   "source": [
    "#### Histogram Analysis:\n",
    "\n",
    "After separating into rich, notRich, and poverty to analyze the distribution of scores, we don't see drastic differences in the shapes of each distribution. All seem relatively normally distributed around a mean of ~95 or 96. However, while the distribution of overall score is similar between all the distributions it doesn't seem that the distribution of critical and noncritical errors follows that same similarity."
   ]
  },
  {
   "cell_type": "code",
   "execution_count": 27,
   "metadata": {},
   "outputs": [],
   "source": [
    "propCriticalRich = criticalRich / (criticalRich + noncriticalRich)\n",
    "propCriticalNotRich = criticalNotRich / (criticalNotRich + noncriticalNotRich)\n",
    "propCriticalPoverty = criticalPoverty / (criticalPoverty + noncriticalPoverty)"
   ]
  },
  {
   "cell_type": "code",
   "execution_count": 28,
   "metadata": {},
   "outputs": [
    {
     "name": "stdout",
     "output_type": "stream",
     "text": [
      "Average Critical Errors\n",
      "\n",
      "Average Rich \n",
      "3.150438531291809\n",
      "Average NotRich \n",
      "2.99854421933762\n",
      "Average Poverty \n",
      "2.856907894736842\n",
      "\n",
      "Average NonCritical Errors\n",
      "\n",
      "Average Rich \n",
      "5.320648134383826\n",
      "Average NotRich \n",
      "5.707873347082373\n",
      "Average Poverty \n",
      "4.222039473684211\n"
     ]
    }
   ],
   "source": [
    "print('Average Critical Errors')\n",
    "print()\n",
    "print('Average Rich ')\n",
    "print(rich['num_critical'].mean())\n",
    "print('Average NotRich ')\n",
    "print(notRich['num_critical'].mean())\n",
    "print('Average Poverty ')\n",
    "print(poverty['num_critical'].mean())\n",
    "\n",
    "print()\n",
    "print('Average NonCritical Errors')\n",
    "print()\n",
    "print('Average Rich ')\n",
    "print(rich['num_non_critical'].mean())\n",
    "print('Average NotRich ')\n",
    "print(notRich['num_non_critical'].mean())\n",
    "print('Average Poverty ')\n",
    "print(poverty['num_non_critical'].mean())"
   ]
  },
  {
   "cell_type": "markdown",
   "metadata": {},
   "source": [
    "#### Difference in Errors\n",
    "\n",
    "By analyzing the number and types of errors made in each group of zip codes we see that there are some visible differences between the groups. We can confirm the significance of these differences using a **Wilcoxon Signed Rank Test** since the distributions of these variables are not normal.\n",
    "\n",
    "The null and alternative hypothesis for these tests follow as...\n",
    "\n",
    "H0: mean(x) == mean(y)\n",
    "\n",
    "H1: mean(x) != mean(y)\n",
    "\n",
    "\n",
    "\n"
   ]
  },
  {
   "cell_type": "markdown",
   "metadata": {},
   "source": [
    "##### Rich v notRich : Critical"
   ]
  },
  {
   "cell_type": "code",
   "execution_count": 29,
   "metadata": {},
   "outputs": [
    {
     "name": "stdout",
     "output_type": "stream",
     "text": [
      "P VALUE:  0.0\n"
     ]
    }
   ],
   "source": [
    "d = rich['num_critical'] - notRich['num_critical']\n",
    "w, p = wilcoxon(d)\n",
    "print('P VALUE: ', p)"
   ]
  },
  {
   "cell_type": "markdown",
   "metadata": {},
   "source": [
    "##### Rich v Poverty: Critical"
   ]
  },
  {
   "cell_type": "code",
   "execution_count": 30,
   "metadata": {},
   "outputs": [
    {
     "name": "stdout",
     "output_type": "stream",
     "text": [
      "P VALUE:  0.0\n"
     ]
    }
   ],
   "source": [
    "d = rich['num_critical'] - poverty['num_critical']\n",
    "w, p = wilcoxon(d)\n",
    "print('P VALUE: ', p)"
   ]
  },
  {
   "cell_type": "markdown",
   "metadata": {},
   "source": [
    "##### Rich v notRich : Noncritical"
   ]
  },
  {
   "cell_type": "code",
   "execution_count": 31,
   "metadata": {},
   "outputs": [
    {
     "name": "stdout",
     "output_type": "stream",
     "text": [
      "P VALUE:  0.0\n"
     ]
    }
   ],
   "source": [
    "d = rich['num_non_critical'] - notRich['num_non_critical']\n",
    "w, p = wilcoxon(d)\n",
    "print('P VALUE: ', p)"
   ]
  },
  {
   "cell_type": "markdown",
   "metadata": {},
   "source": [
    "##### Rich v Poverty : Noncritical"
   ]
  },
  {
   "cell_type": "code",
   "execution_count": 32,
   "metadata": {},
   "outputs": [
    {
     "name": "stdout",
     "output_type": "stream",
     "text": [
      "P VALUE:  0.0\n"
     ]
    }
   ],
   "source": [
    "d = rich['num_non_critical'] - poverty['num_non_critical']\n",
    "w, p = wilcoxon(d)\n",
    "print('P VALUE: ', p)"
   ]
  },
  {
   "cell_type": "markdown",
   "metadata": {},
   "source": [
    "#### Wilcoxon Analysis\n",
    "\n",
    "From this we can see that there is a statistically significant difference between the distributions of errors made in zip codes with higher MFIs than zip codes with lower MFIs as all of our tests returned significant P values for both critical and noncritical errors. This provides a more nuanced view than our previous general analysis of overall score."
   ]
  },
  {
   "cell_type": "markdown",
   "metadata": {},
   "source": [
    "#### Improvement over Time\n",
    "\n",
    "The final portion of analysis has to do with the improvement of restaurants over time. How well a restaurant improves will be determined by how much they minimize their critical and noncritical errors over time. The analysis will still be carried out for all three groups to determine if any stand out in their handling of errors over time.\n",
    "\n",
    "\n",
    "Time in this analysis is also measured by inspection number, so rather than organizing the x axis by dates it is organized by what number each individual inspection was in the lifetime of that restaurant."
   ]
  },
  {
   "cell_type": "markdown",
   "metadata": {},
   "source": [
    "##### Improvement of Average Critical Errors Across 10 Inspections"
   ]
  },
  {
   "cell_type": "code",
   "execution_count": 33,
   "metadata": {},
   "outputs": [
    {
     "data": {
      "text/plain": [
       "<AxesSubplot:title={'center':'Noncritical Improvement Across Inspections'}, xlabel='inspection_num'>"
      ]
     },
     "execution_count": 33,
     "metadata": {},
     "output_type": "execute_result"
    },
    {
     "data": {
      "image/png": "[encoded data removed]",
      "text/plain": [
       "<Figure size 720x360 with 1 Axes>"
      ]
     },
     "metadata": {
      "needs_background": "light"
     },
     "output_type": "display_data"
    }
   ],
   "source": [
    "analysis = pd.pivot_table(merged, index = 'class', columns = 'inspection_num', values = 'num_critical')\n",
    "analysis.transpose().drop(range(11, 17)).plot.line(figsize = (10,5), title='Noncritical Improvement Across Inspections')"
   ]
  },
  {
   "cell_type": "markdown",
   "metadata": {},
   "source": [
    "##### Improvement of Average Noncritical Errors Across 10 Inspections"
   ]
  },
  {
   "cell_type": "code",
   "execution_count": 34,
   "metadata": {},
   "outputs": [
    {
     "data": {
      "text/plain": [
       "<AxesSubplot:title={'center':'Noncritical Improvement Across Inspections'}, xlabel='inspection_num'>"
      ]
     },
     "execution_count": 34,
     "metadata": {},
     "output_type": "execute_result"
    },
    {
     "data": {
      "image/png": "[encoded data removed]",
      "text/plain": [
       "<Figure size 720x360 with 1 Axes>"
      ]
     },
     "metadata": {
      "needs_background": "light"
     },
     "output_type": "display_data"
    }
   ],
   "source": [
    "analysis = pd.pivot_table(merged, index = 'class', columns = 'inspection_num', values = 'num_non_critical')\n",
    "analysis.transpose().drop(range(11, 17)).plot.line(figsize = (10,5), title='Noncritical Improvement Across Inspections' )"
   ]
  },
  {
   "cell_type": "markdown",
   "metadata": {},
   "source": [
    "#### Improvement Over Time Results\n",
    "\n",
    "As a disclaimer, the changes of the Poverty group are more sporadic as there are less observations in the data for restaurants from low income zip codes that have had more than 6 inspections.\n",
    "\n",
    "While low income zip codes vary above and below better off zip codes in number of critical errors over time, there is no major difference between the groups and all have a downward trend as time goes on. This is as expected since over time restaurants should be correcting critical mistakes they are making to better protect their customers and their ratings.\n",
    "\n",
    "There is a much more significant difference in the second plot displaying noncritical improvement over time. Poverty zip codes show much better improvement over time than either of the other two groups. Granted some of the increased decreases after 6 inspections could be attributed to the lower availability of data for thes restaurants, but the general downward trend is much more negative than rich and notRich.\n",
    "\n",
    "\n"
   ]
  },
  {
   "cell_type": "markdown",
   "metadata": {},
   "source": [
    "# Ethics & Privacy"
   ]
  },
  {
   "cell_type": "markdown",
   "metadata": {},
   "source": [
    "**Privacy**\n",
    "\n",
    "In terms of privacy there is not a significant amount of issues that need to be dealt with. The only information one could use to identify someone is the column that specifies the name of the  health inspector that was responsible for each health inspection. Since this was not relevant to my analysis, I dropped the column and would remove it from the data all together (only keeping the inspector ID) if I were to make my results public. Phone numbers for these businesses are also public, so they were not of any immediate concern but they could also be just as easily dropped.\n",
    "\n",
    "**Ethics**\n",
    "\n",
    "My main ethical concern in this project was trying not to discriminate against any restaurants based on the economic status of their zip code. I wanted to take a neutral stance and investigate if there was any truth to any of the biases society has against communities of lower incomes instead of simply replicating what already exists. Another small concern of mine was that I might not have used the most appropriate terminology when referring to communities with lower average incomes. There are negative associations with the word poverty and many low income communities are in this state for reasons that are outside of their control, so the term could be problematic under the incorrect context. \n",
    "\n",
    "\n"
   ]
  },
  {
   "cell_type": "markdown",
   "metadata": {},
   "source": [
    "# Conclusion & Discussion"
   ]
  },
  {
   "cell_type": "markdown",
   "metadata": {},
   "source": [
    "Recent events and conversations with family members of mine caused me to question if there was any validity to the bias some individuals have against restaurants in lower income communities. To evaluate this appropriately, I hypothesized that there was no difference in health inspection performance between restaurants in communities with high Median Family Incomes and restaurants in communities with low Median Family Incomes, with performance being the overall score of a restaurant as well as the number of critical and noncritical errors that restaurant makes.\n",
    "\n",
    "\n",
    "The results of my analysis show that while there is no significant difference between the average scores of restaurants in low, medium, and high income communities, there are differences in the number of errors restaurants in those communities make and how those restaurants improve errors over time. Restaurants in low income communities on average make less critical and noncritical errors than restaurants in medium income communities, and restaurants in medium income communities on average make less critical and noncritical errors as those in high income communities. Finally, while communities of all incomes show similar improvement of critical errors over time, low income communities show much faster rates of improvement when it comes to improving noncritical errors. Given these results I would reject my hypothesis that there is no difference between the health inspection performance of restaurants in low income zip codes versus restaurants in high income zip codes.\n",
    "\n",
    "\n",
    "From these results, we can see that there should be no obvious aversion to restaurants in low income communities. If anything consumers should seek out restaurants in low income communities for their lower average critical and noncritical error rates. I believe that this conclusion is especially important in the context of today's current social and political climate as many Americans are finally confronting the biases held against POC and those that live in low income communities. These individuals continue to get by with significantly less financial opportunities, but can continue to outperform those society deems \"better\" than them. While restaurant preference may not seem like it relates to these struggles, it does! The simple aversion to these restaurants takes money out of these communities pockets and we should be correcting these biases to help benefit these struggling communities. \n",
    "\n",
    "\n"
   ]
  },
  {
   "cell_type": "code",
   "execution_count": 35,
   "metadata": {},
   "outputs": [
    {
     "data": {
      "text/html": [
       "<div>\n",
       "<style scoped>\n",
       "    .dataframe tbody tr th:only-of-type {\n",
       "        vertical-align: middle;\n",
       "    }\n",
       "\n",
       "    .dataframe tbody tr th {\n",
       "        vertical-align: top;\n",
       "    }\n",
       "\n",
       "    .dataframe thead th {\n",
       "        text-align: right;\n",
       "    }\n",
       "</style>\n",
       "<table border=\"1\" class=\"dataframe\">\n",
       "  <thead>\n",
       "    <tr style=\"text-align: right;\">\n",
       "      <th></th>\n",
       "      <th>hsisid</th>\n",
       "      <th>date</th>\n",
       "      <th>address1</th>\n",
       "      <th>city</th>\n",
       "      <th>state</th>\n",
       "      <th>postalcode</th>\n",
       "      <th>restaurantopendate</th>\n",
       "      <th>days_from_open_date</th>\n",
       "      <th>facilitytype</th>\n",
       "      <th>x</th>\n",
       "      <th>...</th>\n",
       "      <th>num_non_critical</th>\n",
       "      <th>critical</th>\n",
       "      <th>median_family_income_dollars</th>\n",
       "      <th>median_household_income_dollars</th>\n",
       "      <th>per_capita_income_dollars</th>\n",
       "      <th>percent_damilies_below_poverty_line</th>\n",
       "      <th>percent_snap_benefits</th>\n",
       "      <th>percent_supplemental_security_income</th>\n",
       "      <th>percent_nonwhite</th>\n",
       "      <th>class</th>\n",
       "    </tr>\n",
       "  </thead>\n",
       "  <tbody>\n",
       "    <tr>\n",
       "      <th>0</th>\n",
       "      <td>4092013748</td>\n",
       "      <td>2012-09-21T00:00:00Z</td>\n",
       "      <td>3000 New Bern Ave</td>\n",
       "      <td>raleigh</td>\n",
       "      <td>NC</td>\n",
       "      <td>27610</td>\n",
       "      <td>2002-12-21T00:00:00Z</td>\n",
       "      <td>3562</td>\n",
       "      <td>Restaurant</td>\n",
       "      <td>-78.587963</td>\n",
       "      <td>...</td>\n",
       "      <td>7</td>\n",
       "      <td>1</td>\n",
       "      <td>49213.0</td>\n",
       "      <td>45209.0</td>\n",
       "      <td>19207.0</td>\n",
       "      <td>19.2</td>\n",
       "      <td>16.9</td>\n",
       "      <td>5.9</td>\n",
       "      <td>72.7</td>\n",
       "      <td>notRich</td>\n",
       "    </tr>\n",
       "    <tr>\n",
       "      <th>1</th>\n",
       "      <td>4092014046</td>\n",
       "      <td>2012-09-21T00:00:00Z</td>\n",
       "      <td>1030-149 N Rogers Ln</td>\n",
       "      <td>raleigh</td>\n",
       "      <td>NC</td>\n",
       "      <td>27610</td>\n",
       "      <td>2004-05-04T00:00:00Z</td>\n",
       "      <td>3062</td>\n",
       "      <td>Restaurant</td>\n",
       "      <td>-78.549673</td>\n",
       "      <td>...</td>\n",
       "      <td>11</td>\n",
       "      <td>0</td>\n",
       "      <td>49213.0</td>\n",
       "      <td>45209.0</td>\n",
       "      <td>19207.0</td>\n",
       "      <td>19.2</td>\n",
       "      <td>16.9</td>\n",
       "      <td>5.9</td>\n",
       "      <td>72.7</td>\n",
       "      <td>notRich</td>\n",
       "    </tr>\n",
       "    <tr>\n",
       "      <th>2</th>\n",
       "      <td>4092015191</td>\n",
       "      <td>2012-09-21T00:00:00Z</td>\n",
       "      <td>6209 ROCK QUARRY RD</td>\n",
       "      <td>raleigh</td>\n",
       "      <td>NC</td>\n",
       "      <td>27610</td>\n",
       "      <td>2008-08-04T00:00:00Z</td>\n",
       "      <td>1509</td>\n",
       "      <td>Restaurant</td>\n",
       "      <td>-78.547960</td>\n",
       "      <td>...</td>\n",
       "      <td>8</td>\n",
       "      <td>1</td>\n",
       "      <td>49213.0</td>\n",
       "      <td>45209.0</td>\n",
       "      <td>19207.0</td>\n",
       "      <td>19.2</td>\n",
       "      <td>16.9</td>\n",
       "      <td>5.9</td>\n",
       "      <td>72.7</td>\n",
       "      <td>notRich</td>\n",
       "    </tr>\n",
       "    <tr>\n",
       "      <th>3</th>\n",
       "      <td>4092016122</td>\n",
       "      <td>2012-09-21T00:00:00Z</td>\n",
       "      <td>1065 Darrington DR</td>\n",
       "      <td>cary</td>\n",
       "      <td>NC</td>\n",
       "      <td>27513</td>\n",
       "      <td>2012-03-28T00:00:00Z</td>\n",
       "      <td>177</td>\n",
       "      <td>Restaurant</td>\n",
       "      <td>-78.815727</td>\n",
       "      <td>...</td>\n",
       "      <td>3</td>\n",
       "      <td>1</td>\n",
       "      <td>109736.0</td>\n",
       "      <td>87262.0</td>\n",
       "      <td>41232.0</td>\n",
       "      <td>3.8</td>\n",
       "      <td>2.4</td>\n",
       "      <td>1.5</td>\n",
       "      <td>27.8</td>\n",
       "      <td>rich</td>\n",
       "    </tr>\n",
       "    <tr>\n",
       "      <th>4</th>\n",
       "      <td>4092021513</td>\n",
       "      <td>2012-09-21T00:00:00Z</td>\n",
       "      <td>841 E Gannon AVE</td>\n",
       "      <td>zebulon</td>\n",
       "      <td>NC</td>\n",
       "      <td>27597</td>\n",
       "      <td>2008-02-25T00:00:00Z</td>\n",
       "      <td>1670</td>\n",
       "      <td>Food Stand</td>\n",
       "      <td>-78.296347</td>\n",
       "      <td>...</td>\n",
       "      <td>4</td>\n",
       "      <td>1</td>\n",
       "      <td>59395.0</td>\n",
       "      <td>51266.0</td>\n",
       "      <td>21573.0</td>\n",
       "      <td>11.3</td>\n",
       "      <td>15.5</td>\n",
       "      <td>7.5</td>\n",
       "      <td>26.3</td>\n",
       "      <td>notRich</td>\n",
       "    </tr>\n",
       "    <tr>\n",
       "      <th>...</th>\n",
       "      <td>...</td>\n",
       "      <td>...</td>\n",
       "      <td>...</td>\n",
       "      <td>...</td>\n",
       "      <td>...</td>\n",
       "      <td>...</td>\n",
       "      <td>...</td>\n",
       "      <td>...</td>\n",
       "      <td>...</td>\n",
       "      <td>...</td>\n",
       "      <td>...</td>\n",
       "      <td>...</td>\n",
       "      <td>...</td>\n",
       "      <td>...</td>\n",
       "      <td>...</td>\n",
       "      <td>...</td>\n",
       "      <td>...</td>\n",
       "      <td>...</td>\n",
       "      <td>...</td>\n",
       "      <td>...</td>\n",
       "      <td>...</td>\n",
       "    </tr>\n",
       "    <tr>\n",
       "      <th>18457</th>\n",
       "      <td>4092017172</td>\n",
       "      <td>2016-11-03T00:00:00Z</td>\n",
       "      <td>1144 KILDAIRE FARM RD</td>\n",
       "      <td>cary</td>\n",
       "      <td>NC</td>\n",
       "      <td>27511</td>\n",
       "      <td>2016-03-03T00:00:00Z</td>\n",
       "      <td>245</td>\n",
       "      <td>Restaurant</td>\n",
       "      <td>-78.783376</td>\n",
       "      <td>...</td>\n",
       "      <td>3</td>\n",
       "      <td>1</td>\n",
       "      <td>82292.0</td>\n",
       "      <td>67392.0</td>\n",
       "      <td>33139.0</td>\n",
       "      <td>9.6</td>\n",
       "      <td>4.5</td>\n",
       "      <td>2.2</td>\n",
       "      <td>24.8</td>\n",
       "      <td>notRich</td>\n",
       "    </tr>\n",
       "    <tr>\n",
       "      <th>18458</th>\n",
       "      <td>4092020555</td>\n",
       "      <td>2016-11-03T00:00:00Z</td>\n",
       "      <td>2285 New Hope Church Rd</td>\n",
       "      <td>raleigh</td>\n",
       "      <td>NC</td>\n",
       "      <td>27604-1662</td>\n",
       "      <td>1993-08-25T00:00:00Z</td>\n",
       "      <td>8471</td>\n",
       "      <td>Food Stand</td>\n",
       "      <td>-78.599523</td>\n",
       "      <td>...</td>\n",
       "      <td>8</td>\n",
       "      <td>0</td>\n",
       "      <td>57419.0</td>\n",
       "      <td>50365.0</td>\n",
       "      <td>25532.0</td>\n",
       "      <td>14.4</td>\n",
       "      <td>10.2</td>\n",
       "      <td>3.8</td>\n",
       "      <td>41.3</td>\n",
       "      <td>notRich</td>\n",
       "    </tr>\n",
       "    <tr>\n",
       "      <th>18459</th>\n",
       "      <td>4092021066</td>\n",
       "      <td>2016-11-03T00:00:00Z</td>\n",
       "      <td>2100 E Millbrook Rd</td>\n",
       "      <td>raleigh</td>\n",
       "      <td>NC</td>\n",
       "      <td>27604-1743</td>\n",
       "      <td>2001-05-03T00:00:00Z</td>\n",
       "      <td>5663</td>\n",
       "      <td>Food Stand</td>\n",
       "      <td>-78.601215</td>\n",
       "      <td>...</td>\n",
       "      <td>3</td>\n",
       "      <td>0</td>\n",
       "      <td>57419.0</td>\n",
       "      <td>50365.0</td>\n",
       "      <td>25532.0</td>\n",
       "      <td>14.4</td>\n",
       "      <td>10.2</td>\n",
       "      <td>3.8</td>\n",
       "      <td>41.3</td>\n",
       "      <td>notRich</td>\n",
       "    </tr>\n",
       "    <tr>\n",
       "      <th>18460</th>\n",
       "      <td>4092021112</td>\n",
       "      <td>2016-11-03T00:00:00Z</td>\n",
       "      <td>1051 E BROAD ST</td>\n",
       "      <td>fuquay-varina</td>\n",
       "      <td>NC</td>\n",
       "      <td>27526-1799</td>\n",
       "      <td>2002-03-19T00:00:00Z</td>\n",
       "      <td>5343</td>\n",
       "      <td>Food Stand</td>\n",
       "      <td>-78.781507</td>\n",
       "      <td>...</td>\n",
       "      <td>4</td>\n",
       "      <td>1</td>\n",
       "      <td>74666.0</td>\n",
       "      <td>66025.0</td>\n",
       "      <td>28074.0</td>\n",
       "      <td>8.4</td>\n",
       "      <td>8.3</td>\n",
       "      <td>3.9</td>\n",
       "      <td>22.5</td>\n",
       "      <td>notRich</td>\n",
       "    </tr>\n",
       "    <tr>\n",
       "      <th>18461</th>\n",
       "      <td>4092021142</td>\n",
       "      <td>2016-11-03T00:00:00Z</td>\n",
       "      <td>5959-1108 Triangle Town Blv</td>\n",
       "      <td>raleigh</td>\n",
       "      <td>NC</td>\n",
       "      <td>27616</td>\n",
       "      <td>2002-08-19T00:00:00Z</td>\n",
       "      <td>5190</td>\n",
       "      <td>Food Stand</td>\n",
       "      <td>-78.571592</td>\n",
       "      <td>...</td>\n",
       "      <td>13</td>\n",
       "      <td>1</td>\n",
       "      <td>60033.0</td>\n",
       "      <td>56323.0</td>\n",
       "      <td>24549.0</td>\n",
       "      <td>11.7</td>\n",
       "      <td>10.6</td>\n",
       "      <td>4.6</td>\n",
       "      <td>52.6</td>\n",
       "      <td>notRich</td>\n",
       "    </tr>\n",
       "  </tbody>\n",
       "</table>\n",
       "<p>15578 rows × 29 columns</p>\n",
       "</div>"
      ],
      "text/plain": [
       "           hsisid                  date                     address1  \\\n",
       "0      4092013748  2012-09-21T00:00:00Z            3000 New Bern Ave   \n",
       "1      4092014046  2012-09-21T00:00:00Z         1030-149 N Rogers Ln   \n",
       "2      4092015191  2012-09-21T00:00:00Z          6209 ROCK QUARRY RD   \n",
       "3      4092016122  2012-09-21T00:00:00Z           1065 Darrington DR   \n",
       "4      4092021513  2012-09-21T00:00:00Z             841 E Gannon AVE   \n",
       "...           ...                   ...                          ...   \n",
       "18457  4092017172  2016-11-03T00:00:00Z        1144 KILDAIRE FARM RD   \n",
       "18458  4092020555  2016-11-03T00:00:00Z      2285 New Hope Church Rd   \n",
       "18459  4092021066  2016-11-03T00:00:00Z          2100 E Millbrook Rd   \n",
       "18460  4092021112  2016-11-03T00:00:00Z              1051 E BROAD ST   \n",
       "18461  4092021142  2016-11-03T00:00:00Z  5959-1108 Triangle Town Blv   \n",
       "\n",
       "                city state  postalcode    restaurantopendate  \\\n",
       "0            raleigh    NC       27610  2002-12-21T00:00:00Z   \n",
       "1            raleigh    NC       27610  2004-05-04T00:00:00Z   \n",
       "2            raleigh    NC       27610  2008-08-04T00:00:00Z   \n",
       "3               cary    NC       27513  2012-03-28T00:00:00Z   \n",
       "4            zebulon    NC       27597  2008-02-25T00:00:00Z   \n",
       "...              ...   ...         ...                   ...   \n",
       "18457           cary    NC       27511  2016-03-03T00:00:00Z   \n",
       "18458        raleigh    NC  27604-1662  1993-08-25T00:00:00Z   \n",
       "18459        raleigh    NC  27604-1743  2001-05-03T00:00:00Z   \n",
       "18460  fuquay-varina    NC  27526-1799  2002-03-19T00:00:00Z   \n",
       "18461        raleigh    NC       27616  2002-08-19T00:00:00Z   \n",
       "\n",
       "       days_from_open_date facilitytype          x  ...  num_non_critical  \\\n",
       "0                     3562   Restaurant -78.587963  ...                 7   \n",
       "1                     3062   Restaurant -78.549673  ...                11   \n",
       "2                     1509   Restaurant -78.547960  ...                 8   \n",
       "3                      177   Restaurant -78.815727  ...                 3   \n",
       "4                     1670   Food Stand -78.296347  ...                 4   \n",
       "...                    ...          ...        ...  ...               ...   \n",
       "18457                  245   Restaurant -78.783376  ...                 3   \n",
       "18458                 8471   Food Stand -78.599523  ...                 8   \n",
       "18459                 5663   Food Stand -78.601215  ...                 3   \n",
       "18460                 5343   Food Stand -78.781507  ...                 4   \n",
       "18461                 5190   Food Stand -78.571592  ...                13   \n",
       "\n",
       "      critical  median_family_income_dollars median_household_income_dollars  \\\n",
       "0            1                       49213.0                         45209.0   \n",
       "1            0                       49213.0                         45209.0   \n",
       "2            1                       49213.0                         45209.0   \n",
       "3            1                      109736.0                         87262.0   \n",
       "4            1                       59395.0                         51266.0   \n",
       "...        ...                           ...                             ...   \n",
       "18457        1                       82292.0                         67392.0   \n",
       "18458        0                       57419.0                         50365.0   \n",
       "18459        0                       57419.0                         50365.0   \n",
       "18460        1                       74666.0                         66025.0   \n",
       "18461        1                       60033.0                         56323.0   \n",
       "\n",
       "      per_capita_income_dollars  percent_damilies_below_poverty_line  \\\n",
       "0                       19207.0                                 19.2   \n",
       "1                       19207.0                                 19.2   \n",
       "2                       19207.0                                 19.2   \n",
       "3                       41232.0                                  3.8   \n",
       "4                       21573.0                                 11.3   \n",
       "...                         ...                                  ...   \n",
       "18457                   33139.0                                  9.6   \n",
       "18458                   25532.0                                 14.4   \n",
       "18459                   25532.0                                 14.4   \n",
       "18460                   28074.0                                  8.4   \n",
       "18461                   24549.0                                 11.7   \n",
       "\n",
       "       percent_snap_benefits  percent_supplemental_security_income  \\\n",
       "0                       16.9                                   5.9   \n",
       "1                       16.9                                   5.9   \n",
       "2                       16.9                                   5.9   \n",
       "3                        2.4                                   1.5   \n",
       "4                       15.5                                   7.5   \n",
       "...                      ...                                   ...   \n",
       "18457                    4.5                                   2.2   \n",
       "18458                   10.2                                   3.8   \n",
       "18459                   10.2                                   3.8   \n",
       "18460                    8.3                                   3.9   \n",
       "18461                   10.6                                   4.6   \n",
       "\n",
       "       percent_nonwhite    class  \n",
       "0                  72.7  notRich  \n",
       "1                  72.7  notRich  \n",
       "2                  72.7  notRich  \n",
       "3                  27.8     rich  \n",
       "4                  26.3  notRich  \n",
       "...                 ...      ...  \n",
       "18457              24.8  notRich  \n",
       "18458              41.3  notRich  \n",
       "18459              41.3  notRich  \n",
       "18460              22.5  notRich  \n",
       "18461              52.6  notRich  \n",
       "\n",
       "[15578 rows x 29 columns]"
      ]
     },
     "execution_count": 35,
     "metadata": {},
     "output_type": "execute_result"
    }
   ],
   "source": []
  },
  {
   "cell_type": "code",
   "execution_count": 41,
   "metadata": {},
   "outputs": [
    {
     "data": {
      "text/plain": [
       "array([2012, 2013, 2014, 2015, 2016], dtype=int64)"
      ]
     },
     "execution_count": 41,
     "metadata": {},
     "output_type": "execute_result"
    }
   ],
   "source": [
    "def getYear(date):\n",
    "    year = int(date[:4])\n",
    "    return year\n",
    "    \n",
    "merged['date'].apply(getYear).unique()"
   ]
  },
  {
   "cell_type": "code",
   "execution_count": 44,
   "metadata": {},
   "outputs": [
    {
     "data": {
      "text/plain": [
       "(38, 8)"
      ]
     },
     "execution_count": 44,
     "metadata": {},
     "output_type": "execute_result"
    }
   ],
   "source": [
    "zipcodes.shape"
   ]
  },
  {
   "cell_type": "code",
   "execution_count": 46,
   "metadata": {},
   "outputs": [
    {
     "data": {
      "text/plain": [
       "(18466, 36)"
      ]
     },
     "execution_count": 46,
     "metadata": {},
     "output_type": "execute_result"
    }
   ],
   "source": [
    "inspections.shape"
   ]
  },
  {
   "cell_type": "code",
   "execution_count": 48,
   "metadata": {},
   "outputs": [
    {
     "data": {
      "text/html": [
       "<div>\n",
       "<style scoped>\n",
       "    .dataframe tbody tr th:only-of-type {\n",
       "        vertical-align: middle;\n",
       "    }\n",
       "\n",
       "    .dataframe tbody tr th {\n",
       "        vertical-align: top;\n",
       "    }\n",
       "\n",
       "    .dataframe thead th {\n",
       "        text-align: right;\n",
       "    }\n",
       "</style>\n",
       "<table border=\"1\" class=\"dataframe\">\n",
       "  <thead>\n",
       "    <tr style=\"text-align: right;\">\n",
       "      <th></th>\n",
       "      <th>zip</th>\n",
       "      <th>median_family_income_dollars</th>\n",
       "      <th>median_household_income_dollars</th>\n",
       "      <th>per_capita_income_dollars</th>\n",
       "      <th>percent_damilies_below_poverty_line</th>\n",
       "      <th>percent_snap_benefits</th>\n",
       "      <th>percent_supplemental_security_income</th>\n",
       "      <th>percent_nonwhite</th>\n",
       "    </tr>\n",
       "  </thead>\n",
       "  <tbody>\n",
       "    <tr>\n",
       "      <th>33</th>\n",
       "      <td>27614</td>\n",
       "      <td>119232</td>\n",
       "      <td>94727</td>\n",
       "      <td>45317</td>\n",
       "      <td>3.7</td>\n",
       "      <td>3.3</td>\n",
       "      <td>1.2</td>\n",
       "      <td>16.6</td>\n",
       "    </tr>\n",
       "    <tr>\n",
       "      <th>34</th>\n",
       "      <td>27615</td>\n",
       "      <td>98884</td>\n",
       "      <td>78378</td>\n",
       "      <td>44747</td>\n",
       "      <td>4.2</td>\n",
       "      <td>4.2</td>\n",
       "      <td>1.5</td>\n",
       "      <td>19.6</td>\n",
       "    </tr>\n",
       "    <tr>\n",
       "      <th>35</th>\n",
       "      <td>27616</td>\n",
       "      <td>60033</td>\n",
       "      <td>56323</td>\n",
       "      <td>24549</td>\n",
       "      <td>11.7</td>\n",
       "      <td>10.6</td>\n",
       "      <td>4.6</td>\n",
       "      <td>52.6</td>\n",
       "    </tr>\n",
       "    <tr>\n",
       "      <th>36</th>\n",
       "      <td>27617</td>\n",
       "      <td>98642</td>\n",
       "      <td>76959</td>\n",
       "      <td>49205</td>\n",
       "      <td>2.0</td>\n",
       "      <td>1.3</td>\n",
       "      <td>0.5</td>\n",
       "      <td>30.4</td>\n",
       "    </tr>\n",
       "    <tr>\n",
       "      <th>37</th>\n",
       "      <td>27703</td>\n",
       "      <td>60783</td>\n",
       "      <td>54674</td>\n",
       "      <td>24280</td>\n",
       "      <td>12.7</td>\n",
       "      <td>15.4</td>\n",
       "      <td>3.6</td>\n",
       "      <td>61.5</td>\n",
       "    </tr>\n",
       "  </tbody>\n",
       "</table>\n",
       "</div>"
      ],
      "text/plain": [
       "      zip  median_family_income_dollars  median_household_income_dollars  \\\n",
       "33  27614                        119232                            94727   \n",
       "34  27615                         98884                            78378   \n",
       "35  27616                         60033                            56323   \n",
       "36  27617                         98642                            76959   \n",
       "37  27703                         60783                            54674   \n",
       "\n",
       "    per_capita_income_dollars  percent_damilies_below_poverty_line  \\\n",
       "33                      45317                                  3.7   \n",
       "34                      44747                                  4.2   \n",
       "35                      24549                                 11.7   \n",
       "36                      49205                                  2.0   \n",
       "37                      24280                                 12.7   \n",
       "\n",
       "    percent_snap_benefits  percent_supplemental_security_income  \\\n",
       "33                    3.3                                   1.2   \n",
       "34                    4.2                                   1.5   \n",
       "35                   10.6                                   4.6   \n",
       "36                    1.3                                   0.5   \n",
       "37                   15.4                                   3.6   \n",
       "\n",
       "    percent_nonwhite  \n",
       "33              16.6  \n",
       "34              19.6  \n",
       "35              52.6  \n",
       "36              30.4  \n",
       "37              61.5  "
      ]
     },
     "execution_count": 48,
     "metadata": {},
     "output_type": "execute_result"
    }
   ],
   "source": [
    "zipcodes.tail()"
   ]
  },
  {
   "cell_type": "code",
   "execution_count": 49,
   "metadata": {},
   "outputs": [
    {
     "data": {
      "text/plain": [
       "Index(['hsisid', 'date', 'address1', 'city', 'state', 'postalcode',\n",
       "       'restaurantopendate', 'days_from_open_date', 'facilitytype', 'x', 'y',\n",
       "       'geocodestatus', 'zip', 'type', 'description', 'inspection_num',\n",
       "       'inspector_id', 'score', 'num_critical', 'num_non_critical', 'critical',\n",
       "       'median_family_income_dollars', 'median_household_income_dollars',\n",
       "       'per_capita_income_dollars', 'percent_damilies_below_poverty_line',\n",
       "       'percent_snap_benefits', 'percent_supplemental_security_income',\n",
       "       'percent_nonwhite', 'class'],\n",
       "      dtype='object')"
      ]
     },
     "execution_count": 49,
     "metadata": {},
     "output_type": "execute_result"
    }
   ],
   "source": [
    "merged.columns"
   ]
  },
  {
   "cell_type": "code",
   "execution_count": null,
   "metadata": {},
   "outputs": [],
   "source": []
  }
 ],
 "metadata": {
  "kernelspec": {
   "display_name": "Python 3",
   "language": "python",
   "name": "python3"
  },
  "language_info": {
   "codemirror_mode": {
    "name": "ipython",
    "version": 3
   },
   "file_extension": ".py",
   "mimetype": "text/x-python",
   "name": "python",
   "nbconvert_exporter": "python",
   "pygments_lexer": "ipython3",
   "version": "3.8.5"
  }
 },
 "nbformat": 4,
 "nbformat_minor": 2
}
